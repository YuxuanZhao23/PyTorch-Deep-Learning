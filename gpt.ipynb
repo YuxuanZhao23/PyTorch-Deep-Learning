{
 "cells": [
  {
   "cell_type": "code",
   "execution_count": 3,
   "metadata": {},
   "outputs": [],
   "source": [
    "with open('input.txt', 'r', encoding='utf-8') as f:\n",
    "    text = f.read()"
   ]
  },
  {
   "cell_type": "code",
   "execution_count": 14,
   "metadata": {},
   "outputs": [
    {
     "name": "stdout",
     "output_type": "stream",
     "text": [
      "['\\n', ' ', '!', '$', '&', \"'\", ',', '-', '.', '3', ':', ';', '?', 'A', 'B', 'C', 'D', 'E', 'F', 'G', 'H', 'I', 'J', 'K', 'L', 'M', 'N', 'O', 'P', 'Q', 'R', 'S', 'T', 'U', 'V', 'W', 'X', 'Y', 'Z', 'a', 'b', 'c', 'd', 'e', 'f', 'g', 'h', 'i', 'j', 'k', 'l', 'm', 'n', 'o', 'p', 'q', 'r', 's', 't', 'u', 'v', 'w', 'x', 'y', 'z']\n"
     ]
    }
   ],
   "source": [
    "chars = sorted(list(set(text)))\n",
    "vocab_size = len(chars)\n",
    "print(chars)"
   ]
  },
  {
   "cell_type": "code",
   "execution_count": 5,
   "metadata": {},
   "outputs": [],
   "source": [
    "s2i = {ch:i for i,ch in enumerate(chars)}\n",
    "i2s = {i:ch for i,ch in enumerate(chars)}\n",
    "encode = lambda s: [s2i[c] for c in s]\n",
    "decode = lambda l: ''.join([i2s[i] for i in l])"
   ]
  },
  {
   "cell_type": "code",
   "execution_count": null,
   "metadata": {},
   "outputs": [],
   "source": [
    "# for education only\n",
    "import tiktoken\n",
    "encoder = tiktoken.get_encoding('gpt2') # Byte Pair Encoding BPE, size 50257\n",
    "encoder.encode(\"hii there\")"
   ]
  },
  {
   "cell_type": "code",
   "execution_count": 6,
   "metadata": {},
   "outputs": [
    {
     "name": "stdout",
     "output_type": "stream",
     "text": [
      "torch.Size([1115394]) torch.int64\n"
     ]
    }
   ],
   "source": [
    "import torch\n",
    "data = torch.tensor(encode(text), dtype=torch.long)\n",
    "print(data.shape, data.dtype)"
   ]
  },
  {
   "cell_type": "code",
   "execution_count": 7,
   "metadata": {},
   "outputs": [],
   "source": [
    "n = int(0.9 * len(data))\n",
    "train = data[:n]\n",
    "test = data[n:]"
   ]
  },
  {
   "cell_type": "code",
   "execution_count": null,
   "metadata": {},
   "outputs": [],
   "source": [
    "# for education only\n",
    "block_size = 8\n",
    "x = train[:block_size]\n",
    "y = train[1: block_size+1]\n",
    "for i in range(block_size):\n",
    "    print('context: ', x[:i+1], ', target: ', y[i])"
   ]
  },
  {
   "cell_type": "code",
   "execution_count": 13,
   "metadata": {},
   "outputs": [
    {
     "name": "stdout",
     "output_type": "stream",
     "text": [
      "context:  [24] , target:  tensor(43)\n",
      "context:  [24, 43] , target:  tensor(58)\n",
      "context:  [24, 43, 58] , target:  tensor(5)\n",
      "context:  [24, 43, 58, 5] , target:  tensor(57)\n",
      "context:  [24, 43, 58, 5, 57] , target:  tensor(1)\n",
      "context:  [24, 43, 58, 5, 57, 1] , target:  tensor(46)\n",
      "context:  [24, 43, 58, 5, 57, 1, 46] , target:  tensor(43)\n",
      "context:  [24, 43, 58, 5, 57, 1, 46, 43] , target:  tensor(39)\n",
      "context:  [44] , target:  tensor(53)\n",
      "context:  [44, 53] , target:  tensor(56)\n",
      "context:  [44, 53, 56] , target:  tensor(1)\n",
      "context:  [44, 53, 56, 1] , target:  tensor(58)\n",
      "context:  [44, 53, 56, 1, 58] , target:  tensor(46)\n",
      "context:  [44, 53, 56, 1, 58, 46] , target:  tensor(39)\n",
      "context:  [44, 53, 56, 1, 58, 46, 39] , target:  tensor(58)\n",
      "context:  [44, 53, 56, 1, 58, 46, 39, 58] , target:  tensor(1)\n",
      "context:  [52] , target:  tensor(58)\n",
      "context:  [52, 58] , target:  tensor(1)\n",
      "context:  [52, 58, 1] , target:  tensor(58)\n",
      "context:  [52, 58, 1, 58] , target:  tensor(46)\n",
      "context:  [52, 58, 1, 58, 46] , target:  tensor(39)\n",
      "context:  [52, 58, 1, 58, 46, 39] , target:  tensor(58)\n",
      "context:  [52, 58, 1, 58, 46, 39, 58] , target:  tensor(1)\n",
      "context:  [52, 58, 1, 58, 46, 39, 58, 1] , target:  tensor(46)\n",
      "context:  [25] , target:  tensor(17)\n",
      "context:  [25, 17] , target:  tensor(27)\n",
      "context:  [25, 17, 27] , target:  tensor(10)\n",
      "context:  [25, 17, 27, 10] , target:  tensor(0)\n",
      "context:  [25, 17, 27, 10, 0] , target:  tensor(21)\n",
      "context:  [25, 17, 27, 10, 0, 21] , target:  tensor(1)\n",
      "context:  [25, 17, 27, 10, 0, 21, 1] , target:  tensor(54)\n",
      "context:  [25, 17, 27, 10, 0, 21, 1, 54] , target:  tensor(39)\n"
     ]
    }
   ],
   "source": [
    "batch_size = 4\n",
    "block_size = 8\n",
    "torch.manual_seed(1337)\n",
    "\n",
    "def get_batch(isTrain):\n",
    "    data = train if isTrain else test\n",
    "    randomIndex = torch.randint(len(data) - block_size, (batch_size, ))\n",
    "    x = torch.stack([data[i: i + block_size] for i in randomIndex])\n",
    "    y = torch.stack([data[i + 1: i + block_size + 1] for i in randomIndex])\n",
    "    return x, y\n",
    "\n",
    "xb, yb = get_batch(True)\n",
    "\n",
    "for batch in range(batch_size): # batch dimension\n",
    "    for block in range(block_size): # time dimension\n",
    "        context = xb[batch, :block+1]\n",
    "        target = yb[batch, block]\n",
    "        print('context: ', context.tolist(), ', target: ', target)\n",
    "        "
   ]
  },
  {
   "cell_type": "code",
   "execution_count": 17,
   "metadata": {},
   "outputs": [
    {
     "name": "stdout",
     "output_type": "stream",
     "text": [
      "torch.Size([4, 8, 65])\n"
     ]
    }
   ],
   "source": [
    "import torch.nn as nn\n",
    "from torch.nn import functional as F\n",
    "\n",
    "class BigramLanguageModel(nn.Module):\n",
    "    def __init__(self, vocab_size):\n",
    "        super().__init__()\n",
    "        self.token_embedding_table = nn.Embedding(vocab_size, vocab_size)\n",
    "\n",
    "    def forward(self, index, targets):\n",
    "        # index 和 targets 都是 (batch, block)\n",
    "        logits = self.token_embedding_table(index) # (batch, block, character)\n",
    "        return logits\n",
    "    \n",
    "model = BigramLanguageModel(vocab_size)\n",
    "output = model(xb, yb)\n",
    "print(output.shape)"
   ]
  }
 ],
 "metadata": {
  "kernelspec": {
   "display_name": "d2dl",
   "language": "python",
   "name": "python3"
  },
  "language_info": {
   "codemirror_mode": {
    "name": "ipython",
    "version": 3
   },
   "file_extension": ".py",
   "mimetype": "text/x-python",
   "name": "python",
   "nbconvert_exporter": "python",
   "pygments_lexer": "ipython3",
   "version": "3.11.10"
  }
 },
 "nbformat": 4,
 "nbformat_minor": 2
}
