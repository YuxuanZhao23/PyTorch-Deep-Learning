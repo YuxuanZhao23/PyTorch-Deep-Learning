{
 "cells": [
  {
   "cell_type": "code",
   "execution_count": 3,
   "metadata": {
    "id": "a4dL962uuV-W"
   },
   "outputs": [],
   "source": [
    "import torch"
   ]
  },
  {
   "cell_type": "code",
   "execution_count": null,
   "metadata": {
    "colab": {
     "base_uri": "https://localhost:8080/"
    },
    "executionInfo": {
     "elapsed": 98,
     "status": "ok",
     "timestamp": 1732763721609,
     "user": {
      "displayName": "Yuxuan",
      "userId": "14016797690582325984"
     },
     "user_tz": 300
    },
    "id": "vbPDlvL-ukoC",
    "outputId": "73de9adb-03af-48a4-ae42-6e9faf5ec59d"
   },
   "outputs": [],
   "source": [
    "x = torch.arange(12)\n",
    "X = x.reshape(3, 4)\n",
    "\n",
    "x, x.shape, x.numel(), X"
   ]
  },
  {
   "cell_type": "code",
   "execution_count": null,
   "metadata": {
    "colab": {
     "base_uri": "https://localhost:8080/"
    },
    "executionInfo": {
     "elapsed": 96,
     "status": "ok",
     "timestamp": 1732763461079,
     "user": {
      "displayName": "Yuxuan",
      "userId": "14016797690582325984"
     },
     "user_tz": 300
    },
    "id": "6zvgVMEDv8He",
    "outputId": "53ddb833-576f-43ac-efcd-64a7fdc319c6"
   },
   "outputs": [],
   "source": [
    "torch.zeros((2, 3, 4))"
   ]
  },
  {
   "cell_type": "code",
   "execution_count": null,
   "metadata": {
    "colab": {
     "base_uri": "https://localhost:8080/"
    },
    "executionInfo": {
     "elapsed": 88,
     "status": "ok",
     "timestamp": 1732763462657,
     "user": {
      "displayName": "Yuxuan",
      "userId": "14016797690582325984"
     },
     "user_tz": 300
    },
    "id": "BbRJ9bJ_v_5K",
    "outputId": "12e9e396-34f9-4310-a2ac-5157bb1593d8"
   },
   "outputs": [],
   "source": [
    "torch.ones((2, 3, 4))"
   ]
  },
  {
   "cell_type": "code",
   "execution_count": null,
   "metadata": {
    "colab": {
     "base_uri": "https://localhost:8080/"
    },
    "executionInfo": {
     "elapsed": 108,
     "status": "ok",
     "timestamp": 1732763678603,
     "user": {
      "displayName": "Yuxuan",
      "userId": "14016797690582325984"
     },
     "user_tz": 300
    },
    "id": "H6vHI28dwpO-",
    "outputId": "ff548fec-a436-4ab4-b8f6-f9e47695d49b"
   },
   "outputs": [
    {
     "data": {
      "text/plain": [
       "(tensor([ 3,  4,  6, 10]),\n",
       " tensor([-1,  0,  2,  6]),\n",
       " tensor([ 2,  4,  8, 16]),\n",
       " tensor([0.5000, 1.0000, 2.0000, 4.0000]),\n",
       " tensor([ 1,  4, 16, 64]),\n",
       " tensor([2.7183e+00, 7.3891e+00, 5.4598e+01, 2.9810e+03]))"
      ]
     },
     "execution_count": 18,
     "metadata": {},
     "output_type": "execute_result"
    }
   ],
   "source": [
    "x = torch.tensor([1, 2, 4, 8])\n",
    "y = torch.tensor([2, 2, 2, 2])\n",
    "\n",
    "x+y, x-y, x*y, x/y, x**y, torch.exp(x)"
   ]
  },
  {
   "cell_type": "code",
   "execution_count": null,
   "metadata": {
    "colab": {
     "base_uri": "https://localhost:8080/"
    },
    "executionInfo": {
     "elapsed": 159,
     "status": "ok",
     "timestamp": 1732763974562,
     "user": {
      "displayName": "Yuxuan",
      "userId": "14016797690582325984"
     },
     "user_tz": 300
    },
    "id": "H9grQjV-xSi7",
    "outputId": "ec58465e-146d-4fab-93ca-fc5bb0cf4031"
   },
   "outputs": [
    {
     "data": {
      "text/plain": [
       "(tensor([[ 0,  1,  2,  3],\n",
       "         [ 4,  5,  6,  7],\n",
       "         [ 8,  9, 10, 11],\n",
       "         [ 1,  2,  3,  4],\n",
       "         [ 5,  6,  7,  8],\n",
       "         [ 9, 10, 11, 12]]),\n",
       " tensor([[ 0,  1,  2,  3,  1,  2,  3,  4],\n",
       "         [ 4,  5,  6,  7,  5,  6,  7,  8],\n",
       "         [ 8,  9, 10, 11,  9, 10, 11, 12]]),\n",
       " tensor([[False, False, False, False],\n",
       "         [False, False, False, False],\n",
       "         [False, False, False, False]]),\n",
       " tensor(66))"
      ]
     },
     "execution_count": 23,
     "metadata": {},
     "output_type": "execute_result"
    }
   ],
   "source": [
    "x = torch.arange(12).reshape((3, 4))\n",
    "y = torch.tensor([[1, 2, 3, 4], [5, 6, 7, 8], [9, 10, 11, 12]])\n",
    "# 在不同维度上的 concatenate\n",
    "torch.cat((x, y), dim=0), torch.cat((x, y), dim=1), x==y, x.sum()"
   ]
  },
  {
   "cell_type": "code",
   "execution_count": null,
   "metadata": {
    "colab": {
     "base_uri": "https://localhost:8080/"
    },
    "executionInfo": {
     "elapsed": 102,
     "status": "ok",
     "timestamp": 1732764117504,
     "user": {
      "displayName": "Yuxuan",
      "userId": "14016797690582325984"
     },
     "user_tz": 300
    },
    "id": "OcnraoTAyLvQ",
    "outputId": "ca8f675d-c67c-4b30-a0b5-2e2781347e51"
   },
   "outputs": [
    {
     "data": {
      "text/plain": [
       "(tensor([[0],\n",
       "         [1],\n",
       "         [2]]),\n",
       " tensor([[0, 1]]),\n",
       " tensor([[0, 1],\n",
       "         [1, 2],\n",
       "         [2, 3]]))"
      ]
     },
     "execution_count": 24,
     "metadata": {},
     "output_type": "execute_result"
    }
   ],
   "source": [
    "a = torch.arange(3).reshape((3, 1))\n",
    "b = torch.arange(2).reshape((1, 2))\n",
    "# broadcast：如果两个矩阵的shape不一样的时候会发生，最容易出错的地方，所以检查矩阵的shape很重要\n",
    "a, b, a + b"
   ]
  },
  {
   "cell_type": "code",
   "execution_count": null,
   "metadata": {
    "colab": {
     "base_uri": "https://localhost:8080/"
    },
    "executionInfo": {
     "elapsed": 98,
     "status": "ok",
     "timestamp": 1732764428517,
     "user": {
      "displayName": "Yuxuan",
      "userId": "14016797690582325984"
     },
     "user_tz": 300
    },
    "id": "c2FR8RDOzg1o",
    "outputId": "c5cf3649-eb98-44eb-84b9-3cc33a7b1d7b"
   },
   "outputs": [
    {
     "data": {
      "text/plain": [
       "(tensor([ 8,  9, 10, 11]),\n",
       " tensor([[ 4,  5,  6,  7],\n",
       "         [ 8,  9, 10, 11]]),\n",
       " tensor(6))"
      ]
     },
     "execution_count": 27,
     "metadata": {},
     "output_type": "execute_result"
    }
   ],
   "source": [
    "x[-1], x[1:3], x[1, 2]"
   ]
  },
  {
   "cell_type": "code",
   "execution_count": null,
   "metadata": {
    "colab": {
     "base_uri": "https://localhost:8080/"
    },
    "executionInfo": {
     "elapsed": 91,
     "status": "ok",
     "timestamp": 1732764536499,
     "user": {
      "displayName": "Yuxuan",
      "userId": "14016797690582325984"
     },
     "user_tz": 300
    },
    "id": "X4o6gsD00Ffh",
    "outputId": "6fa0ec85-9260-403e-cc8f-a92f1b4df5d8"
   },
   "outputs": [
    {
     "data": {
      "text/plain": [
       "tensor([[12, 12, 12, 12],\n",
       "        [12, 12, 12, 12],\n",
       "        [ 8,  9, 10, 11]])"
      ]
     },
     "execution_count": 28,
     "metadata": {},
     "output_type": "execute_result"
    }
   ],
   "source": [
    "x[0:2, :] = 12\n",
    "x"
   ]
  },
  {
   "cell_type": "code",
   "execution_count": null,
   "metadata": {
    "id": "NggvIc7ZzBh_"
   },
   "outputs": [],
   "source": [
    "# in-place assignment\n",
    "\n",
    "x[:] = x + y\n",
    "# 等价于 x += y"
   ]
  },
  {
   "cell_type": "code",
   "execution_count": null,
   "metadata": {
    "colab": {
     "base_uri": "https://localhost:8080/"
    },
    "executionInfo": {
     "elapsed": 108,
     "status": "ok",
     "timestamp": 1732764951751,
     "user": {
      "displayName": "Yuxuan",
      "userId": "14016797690582325984"
     },
     "user_tz": 300
    },
    "id": "G5B6ERUx1VW5",
    "outputId": "dfd270d5-4ad5-4c9d-f50b-1eb610140d79"
   },
   "outputs": [
    {
     "data": {
      "text/plain": [
       "(tensor([3.5000]), 3.5, 3.5, 3)"
      ]
     },
     "execution_count": 30,
     "metadata": {},
     "output_type": "execute_result"
    }
   ],
   "source": [
    "a = torch.tensor([3.5])\n",
    "a, a.item(), float(a), int(a)"
   ]
  },
  {
   "cell_type": "code",
   "execution_count": null,
   "metadata": {
    "id": "RJI70oSsFgPG"
   },
   "outputs": [],
   "source": [
    "from google.colab import drive\n",
    "import csv\n",
    "\n",
    "drive.mount('/content/drive')\n",
    "\n",
    "with open('/content/sample_data/mnist_test.csv', 'r') as file:\n",
    "    reader = csv.reader(file)\n",
    "    for row in reader:\n",
    "        print(row)"
   ]
  },
  {
   "cell_type": "code",
   "execution_count": null,
   "metadata": {
    "id": "1VraSbNJMhXS"
   },
   "outputs": [],
   "source": [
    "import os\n",
    "\n",
    "os.makedirs(os.path.join('..', 'data'), exist_ok=True)\n",
    "data_file = os.path.join('..', 'data', 'house_tiny.csv')\n",
    "with open(data_file, 'w') as f:\n",
    "    f.write('NumRooms,Alley,Price\\n')  # 列名\n",
    "    f.write('NA,Pave,127500\\n')  # 每行表示一个数据样本\n",
    "    f.write('2,NA,106000\\n')\n",
    "    f.write('4,NA,178100\\n')\n",
    "    f.write('NA,NA,140000\\n')"
   ]
  },
  {
   "cell_type": "code",
   "execution_count": null,
   "metadata": {
    "colab": {
     "base_uri": "https://localhost:8080/"
    },
    "executionInfo": {
     "elapsed": 113,
     "status": "ok",
     "timestamp": 1732772503432,
     "user": {
      "displayName": "Yuxuan",
      "userId": "14016797690582325984"
     },
     "user_tz": 300
    },
    "id": "GYGzhp1bNesl",
    "outputId": "1578e342-7720-4386-ec42-1877c532197c"
   },
   "outputs": [
    {
     "name": "stdout",
     "output_type": "stream",
     "text": [
      "   NumRooms Alley   Price\n",
      "0       NaN  Pave  127500\n",
      "1       2.0   NaN  106000\n",
      "2       4.0   NaN  178100\n",
      "3       NaN   NaN  140000\n"
     ]
    }
   ],
   "source": [
    "import pandas as pd\n",
    "\n",
    "data = pd.read_csv(data_file)\n",
    "print(data)"
   ]
  },
  {
   "cell_type": "code",
   "execution_count": null,
   "metadata": {
    "colab": {
     "base_uri": "https://localhost:8080/"
    },
    "executionInfo": {
     "elapsed": 97,
     "status": "ok",
     "timestamp": 1732775138840,
     "user": {
      "displayName": "Yuxuan",
      "userId": "14016797690582325984"
     },
     "user_tz": 300
    },
    "id": "WD5jDjiZNiXN",
    "outputId": "ce55817f-2d39-4d0a-8c30-8b4e422889ab"
   },
   "outputs": [
    {
     "name": "stdout",
     "output_type": "stream",
     "text": [
      "   NumRooms Alley\n",
      "0       3.0  Pave\n",
      "1       2.0   NaN\n",
      "2       4.0   NaN\n",
      "3       3.0   NaN\n"
     ]
    }
   ],
   "source": [
    "inputs, outputs = data.iloc[:, 0:2], data.iloc[:, 2]\n",
    "inputs.iloc[:, 0:1] = inputs.iloc[:, 0:1].fillna(inputs.iloc[:, 0:1].mean())\n",
    "print(inputs)"
   ]
  },
  {
   "cell_type": "code",
   "execution_count": null,
   "metadata": {
    "colab": {
     "base_uri": "https://localhost:8080/"
    },
    "executionInfo": {
     "elapsed": 94,
     "status": "ok",
     "timestamp": 1732775629111,
     "user": {
      "displayName": "Yuxuan",
      "userId": "14016797690582325984"
     },
     "user_tz": 300
    },
    "id": "9e0rWXPzdGpS",
    "outputId": "6bc500a9-7146-48ac-94fc-1e5928660adb"
   },
   "outputs": [
    {
     "name": "stdout",
     "output_type": "stream",
     "text": [
      "   NumRooms  Alley_Pave  Alley_nan\n",
      "0       3.0        True      False\n",
      "1       2.0       False       True\n",
      "2       4.0       False       True\n",
      "3       3.0       False       True\n"
     ]
    }
   ],
   "source": [
    "inputs = pd.get_dummies(inputs, dtype=int, drop_first=True)\n",
    "print(inputs)"
   ]
  },
  {
   "cell_type": "code",
   "execution_count": null,
   "metadata": {
    "colab": {
     "base_uri": "https://localhost:8080/"
    },
    "executionInfo": {
     "elapsed": 159,
     "status": "ok",
     "timestamp": 1732910715963,
     "user": {
      "displayName": "Yuxuan",
      "userId": "14016797690582325984"
     },
     "user_tz": 300
    },
    "id": "NJkeR6i7f9VU",
    "outputId": "556dd8db-4ff5-43a1-f27a-9aef8d0b652e"
   },
   "outputs": [
    {
     "data": {
      "text/plain": [
       "array([[  0,   1,   4,   9],\n",
       "       [ 16,  25,  36,  49],\n",
       "       [ 64,  81, 100, 121],\n",
       "       [144, 169, 196, 225],\n",
       "       [256, 289, 324, 361]])"
      ]
     },
     "execution_count": 8,
     "metadata": {},
     "output_type": "execute_result"
    }
   ],
   "source": [
    "# element-wise prod: Hadamard product\n",
    "import numpy as np\n",
    "A = np.arange(20).reshape(5, 4)\n",
    "B = A.copy()\n",
    "A * B"
   ]
  },
  {
   "cell_type": "code",
   "execution_count": null,
   "metadata": {
    "colab": {
     "base_uri": "https://localhost:8080/"
    },
    "executionInfo": {
     "elapsed": 130,
     "status": "ok",
     "timestamp": 1732910850243,
     "user": {
      "displayName": "Yuxuan",
      "userId": "14016797690582325984"
     },
     "user_tz": 300
    },
    "id": "U0UwMIRkhx3d",
    "outputId": "4cfda24d-0ed1-4471-b75b-29a407edc35c"
   },
   "outputs": [
    {
     "data": {
      "text/plain": [
       "array([[  14,   38,   62,   86,  110],\n",
       "       [  38,  126,  214,  302,  390],\n",
       "       [  62,  214,  366,  518,  670],\n",
       "       [  86,  302,  518,  734,  950],\n",
       "       [ 110,  390,  670,  950, 1230]])"
      ]
     },
     "execution_count": 11,
     "metadata": {},
     "output_type": "execute_result"
    }
   ],
   "source": [
    "A = np.arange(20).reshape(5, 4)\n",
    "B = A.T\n",
    "np.dot(A, B)"
   ]
  },
  {
   "cell_type": "code",
   "execution_count": null,
   "metadata": {
    "colab": {
     "base_uri": "https://localhost:8080/"
    },
    "executionInfo": {
     "elapsed": 153,
     "status": "ok",
     "timestamp": 1732910430239,
     "user": {
      "displayName": "Yuxuan",
      "userId": "14016797690582325984"
     },
     "user_tz": 300
    },
    "id": "3q0dmPzvgo1U",
    "outputId": "24f379f1-92b6-4dc7-8119-b7455b6c841d"
   },
   "outputs": [
    {
     "data": {
      "text/plain": [
       "array([40, 45, 50, 55])"
      ]
     },
     "execution_count": 5,
     "metadata": {},
     "output_type": "execute_result"
    }
   ],
   "source": [
    "# 矩阵的降维，降某一维就是将那个轴拍扁到其他轴上\n",
    "A.mean(axis=0), A.sum(axis=0)"
   ]
  },
  {
   "cell_type": "code",
   "execution_count": null,
   "metadata": {
    "colab": {
     "base_uri": "https://localhost:8080/"
    },
    "executionInfo": {
     "elapsed": 163,
     "status": "ok",
     "timestamp": 1732910663800,
     "user": {
      "displayName": "Yuxuan",
      "userId": "14016797690582325984"
     },
     "user_tz": 300
    },
    "id": "YDssb752g_6P",
    "outputId": "fb710080-7a50-422b-bbc5-27d0944cc031"
   },
   "outputs": [
    {
     "data": {
      "text/plain": [
       "(array([[ 6],\n",
       "        [22],\n",
       "        [38],\n",
       "        [54],\n",
       "        [70]]),\n",
       " array([[ 0,  1,  2,  3],\n",
       "        [ 4,  6,  8, 10],\n",
       "        [12, 15, 18, 21],\n",
       "        [24, 28, 32, 36],\n",
       "        [40, 45, 50, 55]]))"
      ]
     },
     "execution_count": 6,
     "metadata": {},
     "output_type": "execute_result"
    }
   ],
   "source": [
    "# 保留那一维\n",
    "A.sum(axis=1, keepdims=True), A.cumsum(axis=0)"
   ]
  },
  {
   "cell_type": "code",
   "execution_count": null,
   "metadata": {
    "colab": {
     "base_uri": "https://localhost:8080/"
    },
    "executionInfo": {
     "elapsed": 147,
     "status": "ok",
     "timestamp": 1732910958836,
     "user": {
      "displayName": "Yuxuan",
      "userId": "14016797690582325984"
     },
     "user_tz": 300
    },
    "id": "zDjulCvcirGP",
    "outputId": "7c81d290-9221-47ce-8471-7bed9a02448e"
   },
   "outputs": [
    {
     "data": {
      "text/plain": [
       "5.0"
      ]
     },
     "execution_count": 12,
     "metadata": {},
     "output_type": "execute_result"
    }
   ],
   "source": [
    "# L2 norm\n",
    "u = np.array([3, -4])\n",
    "np.linalg.norm(u)"
   ]
  },
  {
   "cell_type": "code",
   "execution_count": null,
   "metadata": {
    "colab": {
     "base_uri": "https://localhost:8080/"
    },
    "executionInfo": {
     "elapsed": 151,
     "status": "ok",
     "timestamp": 1732911004724,
     "user": {
      "displayName": "Yuxuan",
      "userId": "14016797690582325984"
     },
     "user_tz": 300
    },
    "id": "nafkbWh2i0YP",
    "outputId": "893fb544-7d96-4c73-d721-d00fee376bfb"
   },
   "outputs": [
    {
     "data": {
      "text/plain": [
       "7"
      ]
     },
     "execution_count": 13,
     "metadata": {},
     "output_type": "execute_result"
    }
   ],
   "source": [
    "# L1 norm\n",
    "np.abs(u).sum()"
   ]
  },
  {
   "cell_type": "markdown",
   "metadata": {
    "id": "zfJ-cZC4lYlR"
   },
   "source": [
    "$\\frac{\\partial uv}{\\partial x} = \\frac{\\partial u}{\\partial x}v + \\frac{\\partial v}{\\partial x}u$\n",
    "\n",
    "$<u, v>$ 是指这两个向量做内积\n",
    "\n",
    "$\\frac{\\partial <u, v>}{\\partial x} = u^T \\frac{\\partial v}{\\partial x} + v^T \\frac{\\partial u}{\\partial x}$"
   ]
  },
  {
   "cell_type": "code",
   "execution_count": 18,
   "metadata": {
    "colab": {
     "base_uri": "https://localhost:8080/"
    },
    "executionInfo": {
     "elapsed": 149,
     "status": "ok",
     "timestamp": 1732913015217,
     "user": {
      "displayName": "Yuxuan",
      "userId": "14016797690582325984"
     },
     "user_tz": 300
    },
    "id": "Q_r6ZJn8p1IG",
    "outputId": "ac82ea24-a8cb-4c7d-c876-fb610cdf194c"
   },
   "outputs": [
    {
     "data": {
      "text/plain": [
       "tensor([ 0.,  4.,  8., 12.])"
      ]
     },
     "execution_count": 18,
     "metadata": {},
     "output_type": "execute_result"
    }
   ],
   "source": [
    "# 自动求导\n",
    "\n",
    "import torch\n",
    "x = torch.arange(4.0)\n",
    "x.requires_grad_(True)\n",
    "y = 2 * torch.dot(x, x)\n",
    "y.backward()\n",
    "x.grad"
   ]
  },
  {
   "cell_type": "code",
   "execution_count": null,
   "metadata": {
    "id": "U6WL65vVqoNa"
   },
   "outputs": [],
   "source": [
    "# 默认 Pytorch 会累积梯度，可以这样清理\n",
    "x.grad.zero_()\n",
    "y = x * x\n",
    "u = y.detach() # 这里把 u 移动到记录的计算图之外（适用于我们想要 freeze 参数的时候）\n",
    "z = u * x\n",
    "\n",
    "z.sum().backward() # 在获取梯度前都需要说 backward()，因为计算梯度是 weighted 的，pytorch 是拖延到实际需要的时候再执行\n",
    "x.grad == u # 计算机不知道 u = x * x 了"
   ]
  },
  {
   "cell_type": "markdown",
   "metadata": {
    "id": "D1uVtWJmtBLF"
   },
   "source": [
    "loss 为什么通常是一个标量？因为如果loss是向量的话，反向传播的时候矩阵就会太大，算不出来了"
   ]
  }
 ],
 "metadata": {
  "colab": {
   "authorship_tag": "ABX9TyMjpkfH5brCbM1iIdEWd6+I",
   "provenance": []
  },
  "kernelspec": {
   "display_name": "alfred",
   "language": "python",
   "name": "python3"
  },
  "language_info": {
   "codemirror_mode": {
    "name": "ipython",
    "version": 3
   },
   "file_extension": ".py",
   "mimetype": "text/x-python",
   "name": "python",
   "nbconvert_exporter": "python",
   "pygments_lexer": "ipython3",
   "version": "3.11.9"
  }
 },
 "nbformat": 4,
 "nbformat_minor": 0
}
