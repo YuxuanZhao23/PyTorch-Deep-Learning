{
 "cells": [
  {
   "cell_type": "code",
   "execution_count": 1,
   "metadata": {},
   "outputs": [],
   "source": [
    "with open('input.txt', 'r', encoding='utf-8') as f:\n",
    "    text = f.read()"
   ]
  },
  {
   "cell_type": "code",
   "execution_count": 2,
   "metadata": {},
   "outputs": [
    {
     "name": "stdout",
     "output_type": "stream",
     "text": [
      "['\\n', ' ', '!', '$', '&', \"'\", ',', '-', '.', '3', ':', ';', '?', 'A', 'B', 'C', 'D', 'E', 'F', 'G', 'H', 'I', 'J', 'K', 'L', 'M', 'N', 'O', 'P', 'Q', 'R', 'S', 'T', 'U', 'V', 'W', 'X', 'Y', 'Z', 'a', 'b', 'c', 'd', 'e', 'f', 'g', 'h', 'i', 'j', 'k', 'l', 'm', 'n', 'o', 'p', 'q', 'r', 's', 't', 'u', 'v', 'w', 'x', 'y', 'z']\n"
     ]
    }
   ],
   "source": [
    "chars = sorted(list(set(text)))\n",
    "vocab_size = len(chars)\n",
    "print(chars)"
   ]
  },
  {
   "cell_type": "code",
   "execution_count": 3,
   "metadata": {},
   "outputs": [],
   "source": [
    "s2i = {ch:i for i,ch in enumerate(chars)}\n",
    "i2s = {i:ch for i,ch in enumerate(chars)}\n",
    "encode = lambda s: [s2i[c] for c in s]\n",
    "decode = lambda l: ''.join([i2s[i] for i in l])"
   ]
  },
  {
   "cell_type": "code",
   "execution_count": 4,
   "metadata": {},
   "outputs": [
    {
     "data": {
      "text/plain": [
       "[71, 4178, 612]"
      ]
     },
     "execution_count": 4,
     "metadata": {},
     "output_type": "execute_result"
    }
   ],
   "source": [
    "# for education only\n",
    "import tiktoken\n",
    "encoder = tiktoken.get_encoding('gpt2') # Byte Pair Encoding BPE, size 50257\n",
    "encoder.encode(\"hii there\")"
   ]
  },
  {
   "cell_type": "code",
   "execution_count": 5,
   "metadata": {},
   "outputs": [
    {
     "name": "stdout",
     "output_type": "stream",
     "text": [
      "torch.Size([1115394]) torch.int64\n"
     ]
    }
   ],
   "source": [
    "import torch\n",
    "data = torch.tensor(encode(text), dtype=torch.long)\n",
    "print(data.shape, data.dtype)"
   ]
  },
  {
   "cell_type": "code",
   "execution_count": 6,
   "metadata": {},
   "outputs": [],
   "source": [
    "n = int(0.9 * len(data))\n",
    "train = data[:n]\n",
    "test = data[n:]"
   ]
  },
  {
   "cell_type": "code",
   "execution_count": 7,
   "metadata": {},
   "outputs": [
    {
     "name": "stdout",
     "output_type": "stream",
     "text": [
      "context:  tensor([18]) , target:  tensor(47)\n",
      "context:  tensor([18, 47]) , target:  tensor(56)\n",
      "context:  tensor([18, 47, 56]) , target:  tensor(57)\n",
      "context:  tensor([18, 47, 56, 57]) , target:  tensor(58)\n",
      "context:  tensor([18, 47, 56, 57, 58]) , target:  tensor(1)\n",
      "context:  tensor([18, 47, 56, 57, 58,  1]) , target:  tensor(15)\n",
      "context:  tensor([18, 47, 56, 57, 58,  1, 15]) , target:  tensor(47)\n",
      "context:  tensor([18, 47, 56, 57, 58,  1, 15, 47]) , target:  tensor(58)\n"
     ]
    }
   ],
   "source": [
    "# for education only\n",
    "block_size = 8\n",
    "x = train[:block_size]\n",
    "y = train[1: block_size+1]\n",
    "for i in range(block_size):\n",
    "    print('context: ', x[:i+1], ', target: ', y[i])"
   ]
  },
  {
   "cell_type": "code",
   "execution_count": 8,
   "metadata": {},
   "outputs": [
    {
     "name": "stdout",
     "output_type": "stream",
     "text": [
      "context:  [24] , target:  tensor(43)\n",
      "context:  [24, 43] , target:  tensor(58)\n",
      "context:  [24, 43, 58] , target:  tensor(5)\n",
      "context:  [24, 43, 58, 5] , target:  tensor(57)\n",
      "context:  [24, 43, 58, 5, 57] , target:  tensor(1)\n",
      "context:  [24, 43, 58, 5, 57, 1] , target:  tensor(46)\n",
      "context:  [24, 43, 58, 5, 57, 1, 46] , target:  tensor(43)\n",
      "context:  [24, 43, 58, 5, 57, 1, 46, 43] , target:  tensor(39)\n",
      "context:  [44] , target:  tensor(53)\n",
      "context:  [44, 53] , target:  tensor(56)\n",
      "context:  [44, 53, 56] , target:  tensor(1)\n",
      "context:  [44, 53, 56, 1] , target:  tensor(58)\n",
      "context:  [44, 53, 56, 1, 58] , target:  tensor(46)\n",
      "context:  [44, 53, 56, 1, 58, 46] , target:  tensor(39)\n",
      "context:  [44, 53, 56, 1, 58, 46, 39] , target:  tensor(58)\n",
      "context:  [44, 53, 56, 1, 58, 46, 39, 58] , target:  tensor(1)\n",
      "context:  [52] , target:  tensor(58)\n",
      "context:  [52, 58] , target:  tensor(1)\n",
      "context:  [52, 58, 1] , target:  tensor(58)\n",
      "context:  [52, 58, 1, 58] , target:  tensor(46)\n",
      "context:  [52, 58, 1, 58, 46] , target:  tensor(39)\n",
      "context:  [52, 58, 1, 58, 46, 39] , target:  tensor(58)\n",
      "context:  [52, 58, 1, 58, 46, 39, 58] , target:  tensor(1)\n",
      "context:  [52, 58, 1, 58, 46, 39, 58, 1] , target:  tensor(46)\n",
      "context:  [25] , target:  tensor(17)\n",
      "context:  [25, 17] , target:  tensor(27)\n",
      "context:  [25, 17, 27] , target:  tensor(10)\n",
      "context:  [25, 17, 27, 10] , target:  tensor(0)\n",
      "context:  [25, 17, 27, 10, 0] , target:  tensor(21)\n",
      "context:  [25, 17, 27, 10, 0, 21] , target:  tensor(1)\n",
      "context:  [25, 17, 27, 10, 0, 21, 1] , target:  tensor(54)\n",
      "context:  [25, 17, 27, 10, 0, 21, 1, 54] , target:  tensor(39)\n"
     ]
    }
   ],
   "source": [
    "batch_size = 4\n",
    "block_size = 8\n",
    "torch.manual_seed(1337)\n",
    "\n",
    "def get_batch(isTrain):\n",
    "    data = train if isTrain else test\n",
    "    randomIndex = torch.randint(len(data) - block_size, (batch_size, ))\n",
    "    x = torch.stack([data[i: i + block_size] for i in randomIndex])\n",
    "    y = torch.stack([data[i + 1: i + block_size + 1] for i in randomIndex])\n",
    "    return x, y\n",
    "\n",
    "xb, yb = get_batch(True)\n",
    "\n",
    "for batch in range(batch_size): # batch dimension\n",
    "    for block in range(block_size): # time dimension\n",
    "        context = xb[batch, :block+1]\n",
    "        target = yb[batch, block]\n",
    "        print('context: ', context.tolist(), ', target: ', target)\n",
    "        "
   ]
  },
  {
   "cell_type": "code",
   "execution_count": 18,
   "metadata": {},
   "outputs": [
    {
     "name": "stdout",
     "output_type": "stream",
     "text": [
      "\n",
      "dM'D'qf'orlWA;cZvPzNZT!-&Bdvq3TMqFL'ptgdSOMtekNRpygSv\n",
      "hvumYJ'p.YJqf-\n",
      "DgwwPf!TW,izClsWVZ\n",
      "&O?kaBhtTh&;\n"
     ]
    }
   ],
   "source": [
    "import torch.nn as nn\n",
    "from torch.nn import functional as F\n",
    "\n",
    "class BigramLanguageModel(nn.Module):\n",
    "    def __init__(self, vocab_size):\n",
    "        super().__init__()\n",
    "        self.token_embedding_table = nn.Embedding(vocab_size, vocab_size)\n",
    "\n",
    "    def forward(self, index, targets=None):\n",
    "        # index 和 targets 都是 (batch, block)\n",
    "        logits = self.token_embedding_table(index) # (batch, block, character), logit 是向量的意思，在这里可以理解成预测值\n",
    "        if targets is None: loss = None\n",
    "        else:\n",
    "            batch, block, character = logits.shape\n",
    "            logits = logits.view(batch * block, character)\n",
    "            targets = targets.view(batch * block)\n",
    "            loss = F.cross_entropy(logits, targets) # Pytorch 希望你的格式是 (batch, class, ... )\n",
    "        return logits, loss\n",
    "    \n",
    "    def generate(self, index, max_new_tokens):\n",
    "        for _ in range(max_new_tokens):\n",
    "            logits, _ = self(index) # predict\n",
    "            logits = logits[:, -1, :] # the last character prediction, (batch, character)\n",
    "            probs = F.softmax(logits, dim=-1)\n",
    "            index_next = torch.multinomial(probs, num_samples=1) # (batch, 1)\n",
    "            index = torch.cat((index, index_next), dim=1) # (batch, block + 1)\n",
    "        return index\n",
    "    \n",
    "model = BigramLanguageModel(vocab_size)\n",
    "output, loss = model(xb, yb)\n",
    "print(decode(model.generate(index = torch.zeros((1, 1), dtype=torch.long), max_new_tokens=100)[0].tolist())) # 生成一堆垃圾，因为还没训练呢"
   ]
  },
  {
   "cell_type": "code",
   "execution_count": 19,
   "metadata": {},
   "outputs": [],
   "source": [
    "optimizer = torch.optim.AdamW(model.parameters(), lr=1e-3)"
   ]
  },
  {
   "cell_type": "code",
   "execution_count": 23,
   "metadata": {},
   "outputs": [
    {
     "name": "stdout",
     "output_type": "stream",
     "text": [
      "2.379244565963745\n"
     ]
    }
   ],
   "source": [
    "batch_size = 32\n",
    "for steps in range(10000):\n",
    "    xb, yb = get_batch(True)\n",
    "    logits, loss = model(xb, yb)\n",
    "    optimizer.zero_grad(set_to_none=True)\n",
    "    loss.backward()\n",
    "    optimizer.step()\n",
    "print(loss.item())"
   ]
  },
  {
   "cell_type": "code",
   "execution_count": 27,
   "metadata": {},
   "outputs": [
    {
     "name": "stdout",
     "output_type": "stream",
     "text": [
      "\n",
      "Fook'tharund arer, t th rou, henthueaff thifl ce, intid imelfe cor sesofoch ce\n",
      "CENI hawaceleoolt.\n",
      "YORT: wllithamondslo's?\n",
      "I mavear tld'ld th s INIARCion heere s, bu o ave g:\n",
      "Yitaifurta seathinthe or' peenourd thaith t.\n",
      "MENou h st winreindowis h bos yseseco he no ounngouchinelayo s the,\n",
      "D isthet.\n",
      "Tid,\n",
      "\n",
      "Fore, per tof llsishavimes so'she:\n",
      "QUS:\n",
      "G Eveveouesth Pr titre ad rikndothincin odowavesumr-d by,\n"
     ]
    }
   ],
   "source": [
    "print(decode(model.generate(index = torch.zeros((1, 1), dtype=torch.long), max_new_tokens=400)[0].tolist())) # 看起来稍微好一点"
   ]
  }
 ],
 "metadata": {
  "kernelspec": {
   "display_name": "d2dl",
   "language": "python",
   "name": "python3"
  },
  "language_info": {
   "codemirror_mode": {
    "name": "ipython",
    "version": 3
   },
   "file_extension": ".py",
   "mimetype": "text/x-python",
   "name": "python",
   "nbconvert_exporter": "python",
   "pygments_lexer": "ipython3",
   "version": "3.11.10"
  }
 },
 "nbformat": 4,
 "nbformat_minor": 2
}
